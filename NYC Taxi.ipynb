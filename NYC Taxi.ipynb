{
 "cells": [
  {
   "cell_type": "code",
   "execution_count": 1,
   "metadata": {},
   "outputs": [
    {
     "name": "stdout",
     "output_type": "stream",
     "text": [
      "Project name is: NYC Taxi\n"
     ]
    }
   ],
   "source": [
    "print(\"Project name is: NYC Taxi\")"
   ]
  },
  {
   "cell_type": "code",
   "execution_count": null,
   "metadata": {},
   "outputs": [],
   "source": [
    "# Importing required libraries"
   ]
  },
  {
   "cell_type": "code",
   "execution_count": 1,
   "metadata": {},
   "outputs": [],
   "source": [
    "import matplotlib.pyplot as plt\n",
    "import pandas as pd\n",
    "import numpy as np\n",
    "import seaborn as sns\n",
    "import sklearn\n",
    "%matplotlib inline\n",
    "sns.set_style(\"whitegrid\")"
   ]
  },
  {
   "cell_type": "code",
   "execution_count": null,
   "metadata": {},
   "outputs": [],
   "source": [
    "# Loading dataset"
   ]
  },
  {
   "cell_type": "code",
   "execution_count": 2,
   "metadata": {},
   "outputs": [],
   "source": [
    "data=pd.read_csv(\"C://Users//acer//Desktop//1sem//python//ML Start course//nyc_taxi_final//nyc_taxi.csv\")"
   ]
  },
  {
   "cell_type": "code",
   "execution_count": null,
   "metadata": {},
   "outputs": [],
   "source": [
    "# Lets see first few rows"
   ]
  },
  {
   "cell_type": "code",
   "execution_count": 14,
   "metadata": {},
   "outputs": [
    {
     "data": {
      "text/html": [
       "<style  type=\"text/css\" >\n",
       "    #T_a7ec3126_7adf_11ea_be4f_9828a62692e6row0_col0 {\n",
       "            background-color:  #999999;\n",
       "            color:  #000000;\n",
       "        }    #T_a7ec3126_7adf_11ea_be4f_9828a62692e6row0_col3 {\n",
       "            background-color:  #e41a1c;\n",
       "            color:  #f1f1f1;\n",
       "        }    #T_a7ec3126_7adf_11ea_be4f_9828a62692e6row0_col4 {\n",
       "            background-color:  #999999;\n",
       "            color:  #000000;\n",
       "        }    #T_a7ec3126_7adf_11ea_be4f_9828a62692e6row0_col5 {\n",
       "            background-color:  #999999;\n",
       "            color:  #000000;\n",
       "        }    #T_a7ec3126_7adf_11ea_be4f_9828a62692e6row0_col6 {\n",
       "            background-color:  #ffff33;\n",
       "            color:  #000000;\n",
       "        }    #T_a7ec3126_7adf_11ea_be4f_9828a62692e6row0_col7 {\n",
       "            background-color:  #999999;\n",
       "            color:  #000000;\n",
       "        }    #T_a7ec3126_7adf_11ea_be4f_9828a62692e6row0_col9 {\n",
       "            background-color:  #e41a1c;\n",
       "            color:  #f1f1f1;\n",
       "        }    #T_a7ec3126_7adf_11ea_be4f_9828a62692e6row1_col0 {\n",
       "            background-color:  #e41a1c;\n",
       "            color:  #f1f1f1;\n",
       "        }    #T_a7ec3126_7adf_11ea_be4f_9828a62692e6row1_col3 {\n",
       "            background-color:  #377eb8;\n",
       "            color:  #000000;\n",
       "        }    #T_a7ec3126_7adf_11ea_be4f_9828a62692e6row1_col4 {\n",
       "            background-color:  #ff7f00;\n",
       "            color:  #000000;\n",
       "        }    #T_a7ec3126_7adf_11ea_be4f_9828a62692e6row1_col5 {\n",
       "            background-color:  #4daf4a;\n",
       "            color:  #000000;\n",
       "        }    #T_a7ec3126_7adf_11ea_be4f_9828a62692e6row1_col6 {\n",
       "            background-color:  #e41a1c;\n",
       "            color:  #f1f1f1;\n",
       "        }    #T_a7ec3126_7adf_11ea_be4f_9828a62692e6row1_col7 {\n",
       "            background-color:  #e41a1c;\n",
       "            color:  #f1f1f1;\n",
       "        }    #T_a7ec3126_7adf_11ea_be4f_9828a62692e6row1_col9 {\n",
       "            background-color:  #ffff33;\n",
       "            color:  #000000;\n",
       "        }    #T_a7ec3126_7adf_11ea_be4f_9828a62692e6row2_col0 {\n",
       "            background-color:  #999999;\n",
       "            color:  #000000;\n",
       "        }    #T_a7ec3126_7adf_11ea_be4f_9828a62692e6row2_col3 {\n",
       "            background-color:  #377eb8;\n",
       "            color:  #000000;\n",
       "        }    #T_a7ec3126_7adf_11ea_be4f_9828a62692e6row2_col4 {\n",
       "            background-color:  #4daf4a;\n",
       "            color:  #000000;\n",
       "        }    #T_a7ec3126_7adf_11ea_be4f_9828a62692e6row2_col5 {\n",
       "            background-color:  #377eb8;\n",
       "            color:  #000000;\n",
       "        }    #T_a7ec3126_7adf_11ea_be4f_9828a62692e6row2_col6 {\n",
       "            background-color:  #999999;\n",
       "            color:  #000000;\n",
       "        }    #T_a7ec3126_7adf_11ea_be4f_9828a62692e6row2_col7 {\n",
       "            background-color:  #999999;\n",
       "            color:  #000000;\n",
       "        }    #T_a7ec3126_7adf_11ea_be4f_9828a62692e6row2_col9 {\n",
       "            background-color:  #999999;\n",
       "            color:  #000000;\n",
       "        }    #T_a7ec3126_7adf_11ea_be4f_9828a62692e6row3_col0 {\n",
       "            background-color:  #999999;\n",
       "            color:  #000000;\n",
       "        }    #T_a7ec3126_7adf_11ea_be4f_9828a62692e6row3_col3 {\n",
       "            background-color:  #999999;\n",
       "            color:  #000000;\n",
       "        }    #T_a7ec3126_7adf_11ea_be4f_9828a62692e6row3_col4 {\n",
       "            background-color:  #f781bf;\n",
       "            color:  #000000;\n",
       "        }    #T_a7ec3126_7adf_11ea_be4f_9828a62692e6row3_col5 {\n",
       "            background-color:  #a65628;\n",
       "            color:  #f1f1f1;\n",
       "        }    #T_a7ec3126_7adf_11ea_be4f_9828a62692e6row3_col6 {\n",
       "            background-color:  #f781bf;\n",
       "            color:  #000000;\n",
       "        }    #T_a7ec3126_7adf_11ea_be4f_9828a62692e6row3_col7 {\n",
       "            background-color:  #999999;\n",
       "            color:  #000000;\n",
       "        }    #T_a7ec3126_7adf_11ea_be4f_9828a62692e6row3_col9 {\n",
       "            background-color:  #ffff33;\n",
       "            color:  #000000;\n",
       "        }    #T_a7ec3126_7adf_11ea_be4f_9828a62692e6row4_col0 {\n",
       "            background-color:  #e41a1c;\n",
       "            color:  #f1f1f1;\n",
       "        }    #T_a7ec3126_7adf_11ea_be4f_9828a62692e6row4_col3 {\n",
       "            background-color:  #e41a1c;\n",
       "            color:  #f1f1f1;\n",
       "        }    #T_a7ec3126_7adf_11ea_be4f_9828a62692e6row4_col4 {\n",
       "            background-color:  #e41a1c;\n",
       "            color:  #f1f1f1;\n",
       "        }    #T_a7ec3126_7adf_11ea_be4f_9828a62692e6row4_col5 {\n",
       "            background-color:  #e41a1c;\n",
       "            color:  #f1f1f1;\n",
       "        }    #T_a7ec3126_7adf_11ea_be4f_9828a62692e6row4_col6 {\n",
       "            background-color:  #377eb8;\n",
       "            color:  #000000;\n",
       "        }    #T_a7ec3126_7adf_11ea_be4f_9828a62692e6row4_col7 {\n",
       "            background-color:  #ff7f00;\n",
       "            color:  #000000;\n",
       "        }    #T_a7ec3126_7adf_11ea_be4f_9828a62692e6row4_col9 {\n",
       "            background-color:  #984ea3;\n",
       "            color:  #f1f1f1;\n",
       "        }</style><table id=\"T_a7ec3126_7adf_11ea_be4f_9828a62692e6\" ><thead>    <tr>        <th class=\"blank level0\" ></th>        <th class=\"col_heading level0 col0\" >vendor_id</th>        <th class=\"col_heading level0 col1\" >pickup_datetime</th>        <th class=\"col_heading level0 col2\" >dropoff_datetime</th>        <th class=\"col_heading level0 col3\" >passenger_count</th>        <th class=\"col_heading level0 col4\" >pickup_longitude</th>        <th class=\"col_heading level0 col5\" >pickup_latitude</th>        <th class=\"col_heading level0 col6\" >dropoff_longitude</th>        <th class=\"col_heading level0 col7\" >dropoff_latitude</th>        <th class=\"col_heading level0 col8\" >store_and_fwd_flag</th>        <th class=\"col_heading level0 col9\" >trip_duration</th>    </tr></thead><tbody>\n",
       "                <tr>\n",
       "                        <th id=\"T_a7ec3126_7adf_11ea_be4f_9828a62692e6level0_row0\" class=\"row_heading level0 row0\" >0</th>\n",
       "                        <td id=\"T_a7ec3126_7adf_11ea_be4f_9828a62692e6row0_col0\" class=\"data row0 col0\" >2</td>\n",
       "                        <td id=\"T_a7ec3126_7adf_11ea_be4f_9828a62692e6row0_col1\" class=\"data row0 col1\" >2016-02-29 16:40:21</td>\n",
       "                        <td id=\"T_a7ec3126_7adf_11ea_be4f_9828a62692e6row0_col2\" class=\"data row0 col2\" >2016-02-29 16:47:01</td>\n",
       "                        <td id=\"T_a7ec3126_7adf_11ea_be4f_9828a62692e6row0_col3\" class=\"data row0 col3\" >1</td>\n",
       "                        <td id=\"T_a7ec3126_7adf_11ea_be4f_9828a62692e6row0_col4\" class=\"data row0 col4\" >-73.9539</td>\n",
       "                        <td id=\"T_a7ec3126_7adf_11ea_be4f_9828a62692e6row0_col5\" class=\"data row0 col5\" >40.7789</td>\n",
       "                        <td id=\"T_a7ec3126_7adf_11ea_be4f_9828a62692e6row0_col6\" class=\"data row0 col6\" >-73.9639</td>\n",
       "                        <td id=\"T_a7ec3126_7adf_11ea_be4f_9828a62692e6row0_col7\" class=\"data row0 col7\" >40.7712</td>\n",
       "                        <td id=\"T_a7ec3126_7adf_11ea_be4f_9828a62692e6row0_col8\" class=\"data row0 col8\" >N</td>\n",
       "                        <td id=\"T_a7ec3126_7adf_11ea_be4f_9828a62692e6row0_col9\" class=\"data row0 col9\" >400</td>\n",
       "            </tr>\n",
       "            <tr>\n",
       "                        <th id=\"T_a7ec3126_7adf_11ea_be4f_9828a62692e6level0_row1\" class=\"row_heading level0 row1\" >1</th>\n",
       "                        <td id=\"T_a7ec3126_7adf_11ea_be4f_9828a62692e6row1_col0\" class=\"data row1 col0\" >1</td>\n",
       "                        <td id=\"T_a7ec3126_7adf_11ea_be4f_9828a62692e6row1_col1\" class=\"data row1 col1\" >2016-03-11 23:35:37</td>\n",
       "                        <td id=\"T_a7ec3126_7adf_11ea_be4f_9828a62692e6row1_col2\" class=\"data row1 col2\" >2016-03-11 23:53:57</td>\n",
       "                        <td id=\"T_a7ec3126_7adf_11ea_be4f_9828a62692e6row1_col3\" class=\"data row1 col3\" >2</td>\n",
       "                        <td id=\"T_a7ec3126_7adf_11ea_be4f_9828a62692e6row1_col4\" class=\"data row1 col4\" >-73.9883</td>\n",
       "                        <td id=\"T_a7ec3126_7adf_11ea_be4f_9828a62692e6row1_col5\" class=\"data row1 col5\" >40.7317</td>\n",
       "                        <td id=\"T_a7ec3126_7adf_11ea_be4f_9828a62692e6row1_col6\" class=\"data row1 col6\" >-73.9948</td>\n",
       "                        <td id=\"T_a7ec3126_7adf_11ea_be4f_9828a62692e6row1_col7\" class=\"data row1 col7\" >40.6949</td>\n",
       "                        <td id=\"T_a7ec3126_7adf_11ea_be4f_9828a62692e6row1_col8\" class=\"data row1 col8\" >N</td>\n",
       "                        <td id=\"T_a7ec3126_7adf_11ea_be4f_9828a62692e6row1_col9\" class=\"data row1 col9\" >1100</td>\n",
       "            </tr>\n",
       "            <tr>\n",
       "                        <th id=\"T_a7ec3126_7adf_11ea_be4f_9828a62692e6level0_row2\" class=\"row_heading level0 row2\" >2</th>\n",
       "                        <td id=\"T_a7ec3126_7adf_11ea_be4f_9828a62692e6row2_col0\" class=\"data row2 col0\" >2</td>\n",
       "                        <td id=\"T_a7ec3126_7adf_11ea_be4f_9828a62692e6row2_col1\" class=\"data row2 col1\" >2016-02-21 17:59:33</td>\n",
       "                        <td id=\"T_a7ec3126_7adf_11ea_be4f_9828a62692e6row2_col2\" class=\"data row2 col2\" >2016-02-21 18:26:48</td>\n",
       "                        <td id=\"T_a7ec3126_7adf_11ea_be4f_9828a62692e6row2_col3\" class=\"data row2 col3\" >2</td>\n",
       "                        <td id=\"T_a7ec3126_7adf_11ea_be4f_9828a62692e6row2_col4\" class=\"data row2 col4\" >-73.9973</td>\n",
       "                        <td id=\"T_a7ec3126_7adf_11ea_be4f_9828a62692e6row2_col5\" class=\"data row2 col5\" >40.7215</td>\n",
       "                        <td id=\"T_a7ec3126_7adf_11ea_be4f_9828a62692e6row2_col6\" class=\"data row2 col6\" >-73.948</td>\n",
       "                        <td id=\"T_a7ec3126_7adf_11ea_be4f_9828a62692e6row2_col7\" class=\"data row2 col7\" >40.7749</td>\n",
       "                        <td id=\"T_a7ec3126_7adf_11ea_be4f_9828a62692e6row2_col8\" class=\"data row2 col8\" >N</td>\n",
       "                        <td id=\"T_a7ec3126_7adf_11ea_be4f_9828a62692e6row2_col9\" class=\"data row2 col9\" >1635</td>\n",
       "            </tr>\n",
       "            <tr>\n",
       "                        <th id=\"T_a7ec3126_7adf_11ea_be4f_9828a62692e6level0_row3\" class=\"row_heading level0 row3\" >3</th>\n",
       "                        <td id=\"T_a7ec3126_7adf_11ea_be4f_9828a62692e6row3_col0\" class=\"data row3 col0\" >2</td>\n",
       "                        <td id=\"T_a7ec3126_7adf_11ea_be4f_9828a62692e6row3_col1\" class=\"data row3 col1\" >2016-01-05 09:44:31</td>\n",
       "                        <td id=\"T_a7ec3126_7adf_11ea_be4f_9828a62692e6row3_col2\" class=\"data row3 col2\" >2016-01-05 10:03:32</td>\n",
       "                        <td id=\"T_a7ec3126_7adf_11ea_be4f_9828a62692e6row3_col3\" class=\"data row3 col3\" >6</td>\n",
       "                        <td id=\"T_a7ec3126_7adf_11ea_be4f_9828a62692e6row3_col4\" class=\"data row3 col4\" >-73.9617</td>\n",
       "                        <td id=\"T_a7ec3126_7adf_11ea_be4f_9828a62692e6row3_col5\" class=\"data row3 col5\" >40.7597</td>\n",
       "                        <td id=\"T_a7ec3126_7adf_11ea_be4f_9828a62692e6row3_col6\" class=\"data row3 col6\" >-73.9568</td>\n",
       "                        <td id=\"T_a7ec3126_7adf_11ea_be4f_9828a62692e6row3_col7\" class=\"data row3 col7\" >40.7806</td>\n",
       "                        <td id=\"T_a7ec3126_7adf_11ea_be4f_9828a62692e6row3_col8\" class=\"data row3 col8\" >N</td>\n",
       "                        <td id=\"T_a7ec3126_7adf_11ea_be4f_9828a62692e6row3_col9\" class=\"data row3 col9\" >1141</td>\n",
       "            </tr>\n",
       "            <tr>\n",
       "                        <th id=\"T_a7ec3126_7adf_11ea_be4f_9828a62692e6level0_row4\" class=\"row_heading level0 row4\" >4</th>\n",
       "                        <td id=\"T_a7ec3126_7adf_11ea_be4f_9828a62692e6row4_col0\" class=\"data row4 col0\" >1</td>\n",
       "                        <td id=\"T_a7ec3126_7adf_11ea_be4f_9828a62692e6row4_col1\" class=\"data row4 col1\" >2016-02-17 06:42:23</td>\n",
       "                        <td id=\"T_a7ec3126_7adf_11ea_be4f_9828a62692e6row4_col2\" class=\"data row4 col2\" >2016-02-17 06:56:31</td>\n",
       "                        <td id=\"T_a7ec3126_7adf_11ea_be4f_9828a62692e6row4_col3\" class=\"data row4 col3\" >1</td>\n",
       "                        <td id=\"T_a7ec3126_7adf_11ea_be4f_9828a62692e6row4_col4\" class=\"data row4 col4\" >-74.0171</td>\n",
       "                        <td id=\"T_a7ec3126_7adf_11ea_be4f_9828a62692e6row4_col5\" class=\"data row4 col5\" >40.7085</td>\n",
       "                        <td id=\"T_a7ec3126_7adf_11ea_be4f_9828a62692e6row4_col6\" class=\"data row4 col6\" >-73.9882</td>\n",
       "                        <td id=\"T_a7ec3126_7adf_11ea_be4f_9828a62692e6row4_col7\" class=\"data row4 col7\" >40.7406</td>\n",
       "                        <td id=\"T_a7ec3126_7adf_11ea_be4f_9828a62692e6row4_col8\" class=\"data row4 col8\" >N</td>\n",
       "                        <td id=\"T_a7ec3126_7adf_11ea_be4f_9828a62692e6row4_col9\" class=\"data row4 col9\" >848</td>\n",
       "            </tr>\n",
       "    </tbody></table>"
      ],
      "text/plain": [
       "<pandas.io.formats.style.Styler at 0x1c1c2115668>"
      ]
     },
     "execution_count": 14,
     "metadata": {},
     "output_type": "execute_result"
    }
   ],
   "source": [
    "data.head(5).style.background_gradient(cmap = 'Set1')"
   ]
  },
  {
   "cell_type": "code",
   "execution_count": null,
   "metadata": {},
   "outputs": [],
   "source": [
    "# last few rows"
   ]
  },
  {
   "cell_type": "code",
   "execution_count": 13,
   "metadata": {},
   "outputs": [
    {
     "data": {
      "text/html": [
       "<style  type=\"text/css\" >\n",
       "    #T_a11d6628_7adf_11ea_ba01_9828a62692e6row0_col0 {\n",
       "            background-color:  #b3b3b3;\n",
       "            color:  #000000;\n",
       "        }    #T_a11d6628_7adf_11ea_ba01_9828a62692e6row0_col3 {\n",
       "            background-color:  #8da0cb;\n",
       "            color:  #000000;\n",
       "        }    #T_a11d6628_7adf_11ea_ba01_9828a62692e6row0_col4 {\n",
       "            background-color:  #b3b3b3;\n",
       "            color:  #000000;\n",
       "        }    #T_a11d6628_7adf_11ea_ba01_9828a62692e6row0_col5 {\n",
       "            background-color:  #b3b3b3;\n",
       "            color:  #000000;\n",
       "        }    #T_a11d6628_7adf_11ea_ba01_9828a62692e6row0_col6 {\n",
       "            background-color:  #b3b3b3;\n",
       "            color:  #000000;\n",
       "        }    #T_a11d6628_7adf_11ea_ba01_9828a62692e6row0_col7 {\n",
       "            background-color:  #b3b3b3;\n",
       "            color:  #000000;\n",
       "        }    #T_a11d6628_7adf_11ea_ba01_9828a62692e6row0_col9 {\n",
       "            background-color:  #66c2a5;\n",
       "            color:  #000000;\n",
       "        }    #T_a11d6628_7adf_11ea_ba01_9828a62692e6row1_col0 {\n",
       "            background-color:  #66c2a5;\n",
       "            color:  #000000;\n",
       "        }    #T_a11d6628_7adf_11ea_ba01_9828a62692e6row1_col3 {\n",
       "            background-color:  #66c2a5;\n",
       "            color:  #000000;\n",
       "        }    #T_a11d6628_7adf_11ea_ba01_9828a62692e6row1_col4 {\n",
       "            background-color:  #fc8d62;\n",
       "            color:  #000000;\n",
       "        }    #T_a11d6628_7adf_11ea_ba01_9828a62692e6row1_col5 {\n",
       "            background-color:  #8da0cb;\n",
       "            color:  #000000;\n",
       "        }    #T_a11d6628_7adf_11ea_ba01_9828a62692e6row1_col6 {\n",
       "            background-color:  #fc8d62;\n",
       "            color:  #000000;\n",
       "        }    #T_a11d6628_7adf_11ea_ba01_9828a62692e6row1_col7 {\n",
       "            background-color:  #fc8d62;\n",
       "            color:  #000000;\n",
       "        }    #T_a11d6628_7adf_11ea_ba01_9828a62692e6row1_col9 {\n",
       "            background-color:  #66c2a5;\n",
       "            color:  #000000;\n",
       "        }    #T_a11d6628_7adf_11ea_ba01_9828a62692e6row2_col0 {\n",
       "            background-color:  #66c2a5;\n",
       "            color:  #000000;\n",
       "        }    #T_a11d6628_7adf_11ea_ba01_9828a62692e6row2_col3 {\n",
       "            background-color:  #66c2a5;\n",
       "            color:  #000000;\n",
       "        }    #T_a11d6628_7adf_11ea_ba01_9828a62692e6row2_col4 {\n",
       "            background-color:  #fc8d62;\n",
       "            color:  #000000;\n",
       "        }    #T_a11d6628_7adf_11ea_ba01_9828a62692e6row2_col5 {\n",
       "            background-color:  #ffd92f;\n",
       "            color:  #000000;\n",
       "        }    #T_a11d6628_7adf_11ea_ba01_9828a62692e6row2_col6 {\n",
       "            background-color:  #fc8d62;\n",
       "            color:  #000000;\n",
       "        }    #T_a11d6628_7adf_11ea_ba01_9828a62692e6row2_col7 {\n",
       "            background-color:  #8da0cb;\n",
       "            color:  #000000;\n",
       "        }    #T_a11d6628_7adf_11ea_ba01_9828a62692e6row2_col9 {\n",
       "            background-color:  #e78ac3;\n",
       "            color:  #000000;\n",
       "        }    #T_a11d6628_7adf_11ea_ba01_9828a62692e6row3_col0 {\n",
       "            background-color:  #66c2a5;\n",
       "            color:  #000000;\n",
       "        }    #T_a11d6628_7adf_11ea_ba01_9828a62692e6row3_col3 {\n",
       "            background-color:  #66c2a5;\n",
       "            color:  #000000;\n",
       "        }    #T_a11d6628_7adf_11ea_ba01_9828a62692e6row3_col4 {\n",
       "            background-color:  #66c2a5;\n",
       "            color:  #000000;\n",
       "        }    #T_a11d6628_7adf_11ea_ba01_9828a62692e6row3_col5 {\n",
       "            background-color:  #66c2a5;\n",
       "            color:  #000000;\n",
       "        }    #T_a11d6628_7adf_11ea_ba01_9828a62692e6row3_col6 {\n",
       "            background-color:  #66c2a5;\n",
       "            color:  #000000;\n",
       "        }    #T_a11d6628_7adf_11ea_ba01_9828a62692e6row3_col7 {\n",
       "            background-color:  #66c2a5;\n",
       "            color:  #000000;\n",
       "        }    #T_a11d6628_7adf_11ea_ba01_9828a62692e6row3_col9 {\n",
       "            background-color:  #fc8d62;\n",
       "            color:  #000000;\n",
       "        }    #T_a11d6628_7adf_11ea_ba01_9828a62692e6row4_col0 {\n",
       "            background-color:  #b3b3b3;\n",
       "            color:  #000000;\n",
       "        }    #T_a11d6628_7adf_11ea_ba01_9828a62692e6row4_col3 {\n",
       "            background-color:  #b3b3b3;\n",
       "            color:  #000000;\n",
       "        }    #T_a11d6628_7adf_11ea_ba01_9828a62692e6row4_col4 {\n",
       "            background-color:  #66c2a5;\n",
       "            color:  #000000;\n",
       "        }    #T_a11d6628_7adf_11ea_ba01_9828a62692e6row4_col5 {\n",
       "            background-color:  #e78ac3;\n",
       "            color:  #000000;\n",
       "        }    #T_a11d6628_7adf_11ea_ba01_9828a62692e6row4_col6 {\n",
       "            background-color:  #b3b3b3;\n",
       "            color:  #000000;\n",
       "        }    #T_a11d6628_7adf_11ea_ba01_9828a62692e6row4_col7 {\n",
       "            background-color:  #66c2a5;\n",
       "            color:  #000000;\n",
       "        }    #T_a11d6628_7adf_11ea_ba01_9828a62692e6row4_col9 {\n",
       "            background-color:  #b3b3b3;\n",
       "            color:  #000000;\n",
       "        }</style><table id=\"T_a11d6628_7adf_11ea_ba01_9828a62692e6\" ><thead>    <tr>        <th class=\"blank level0\" ></th>        <th class=\"col_heading level0 col0\" >vendor_id</th>        <th class=\"col_heading level0 col1\" >pickup_datetime</th>        <th class=\"col_heading level0 col2\" >dropoff_datetime</th>        <th class=\"col_heading level0 col3\" >passenger_count</th>        <th class=\"col_heading level0 col4\" >pickup_longitude</th>        <th class=\"col_heading level0 col5\" >pickup_latitude</th>        <th class=\"col_heading level0 col6\" >dropoff_longitude</th>        <th class=\"col_heading level0 col7\" >dropoff_latitude</th>        <th class=\"col_heading level0 col8\" >store_and_fwd_flag</th>        <th class=\"col_heading level0 col9\" >trip_duration</th>    </tr></thead><tbody>\n",
       "                <tr>\n",
       "                        <th id=\"T_a11d6628_7adf_11ea_ba01_9828a62692e6level0_row0\" class=\"row_heading level0 row0\" >729317</th>\n",
       "                        <td id=\"T_a11d6628_7adf_11ea_ba01_9828a62692e6row0_col0\" class=\"data row0 col0\" >2</td>\n",
       "                        <td id=\"T_a11d6628_7adf_11ea_ba01_9828a62692e6row0_col1\" class=\"data row0 col1\" >2016-05-21 13:29:38</td>\n",
       "                        <td id=\"T_a11d6628_7adf_11ea_ba01_9828a62692e6row0_col2\" class=\"data row0 col2\" >2016-05-21 13:34:34</td>\n",
       "                        <td id=\"T_a11d6628_7adf_11ea_ba01_9828a62692e6row0_col3\" class=\"data row0 col3\" >2</td>\n",
       "                        <td id=\"T_a11d6628_7adf_11ea_ba01_9828a62692e6row0_col4\" class=\"data row0 col4\" >-73.9659</td>\n",
       "                        <td id=\"T_a11d6628_7adf_11ea_ba01_9828a62692e6row0_col5\" class=\"data row0 col5\" >40.7898</td>\n",
       "                        <td id=\"T_a11d6628_7adf_11ea_ba01_9828a62692e6row0_col6\" class=\"data row0 col6\" >-73.9526</td>\n",
       "                        <td id=\"T_a11d6628_7adf_11ea_ba01_9828a62692e6row0_col7\" class=\"data row0 col7\" >40.7892</td>\n",
       "                        <td id=\"T_a11d6628_7adf_11ea_ba01_9828a62692e6row0_col8\" class=\"data row0 col8\" >N</td>\n",
       "                        <td id=\"T_a11d6628_7adf_11ea_ba01_9828a62692e6row0_col9\" class=\"data row0 col9\" >296</td>\n",
       "            </tr>\n",
       "            <tr>\n",
       "                        <th id=\"T_a11d6628_7adf_11ea_ba01_9828a62692e6level0_row1\" class=\"row_heading level0 row1\" >729318</th>\n",
       "                        <td id=\"T_a11d6628_7adf_11ea_ba01_9828a62692e6row1_col0\" class=\"data row1 col0\" >1</td>\n",
       "                        <td id=\"T_a11d6628_7adf_11ea_ba01_9828a62692e6row1_col1\" class=\"data row1 col1\" >2016-02-22 00:43:11</td>\n",
       "                        <td id=\"T_a11d6628_7adf_11ea_ba01_9828a62692e6row1_col2\" class=\"data row1 col2\" >2016-02-22 00:48:26</td>\n",
       "                        <td id=\"T_a11d6628_7adf_11ea_ba01_9828a62692e6row1_col3\" class=\"data row1 col3\" >1</td>\n",
       "                        <td id=\"T_a11d6628_7adf_11ea_ba01_9828a62692e6row1_col4\" class=\"data row1 col4\" >-73.9967</td>\n",
       "                        <td id=\"T_a11d6628_7adf_11ea_ba01_9828a62692e6row1_col5\" class=\"data row1 col5\" >40.7374</td>\n",
       "                        <td id=\"T_a11d6628_7adf_11ea_ba01_9828a62692e6row1_col6\" class=\"data row1 col6\" >-74.0013</td>\n",
       "                        <td id=\"T_a11d6628_7adf_11ea_ba01_9828a62692e6row1_col7\" class=\"data row1 col7\" >40.7319</td>\n",
       "                        <td id=\"T_a11d6628_7adf_11ea_ba01_9828a62692e6row1_col8\" class=\"data row1 col8\" >N</td>\n",
       "                        <td id=\"T_a11d6628_7adf_11ea_ba01_9828a62692e6row1_col9\" class=\"data row1 col9\" >315</td>\n",
       "            </tr>\n",
       "            <tr>\n",
       "                        <th id=\"T_a11d6628_7adf_11ea_ba01_9828a62692e6level0_row2\" class=\"row_heading level0 row2\" >729319</th>\n",
       "                        <td id=\"T_a11d6628_7adf_11ea_ba01_9828a62692e6row2_col0\" class=\"data row2 col0\" >1</td>\n",
       "                        <td id=\"T_a11d6628_7adf_11ea_ba01_9828a62692e6row2_col1\" class=\"data row2 col1\" >2016-04-15 18:56:48</td>\n",
       "                        <td id=\"T_a11d6628_7adf_11ea_ba01_9828a62692e6row2_col2\" class=\"data row2 col2\" >2016-04-15 19:08:01</td>\n",
       "                        <td id=\"T_a11d6628_7adf_11ea_ba01_9828a62692e6row2_col3\" class=\"data row2 col3\" >1</td>\n",
       "                        <td id=\"T_a11d6628_7adf_11ea_ba01_9828a62692e6row2_col4\" class=\"data row2 col4\" >-73.9978</td>\n",
       "                        <td id=\"T_a11d6628_7adf_11ea_ba01_9828a62692e6row2_col5\" class=\"data row2 col5\" >40.7617</td>\n",
       "                        <td id=\"T_a11d6628_7adf_11ea_ba01_9828a62692e6row2_col6\" class=\"data row2 col6\" >-74.0015</td>\n",
       "                        <td id=\"T_a11d6628_7adf_11ea_ba01_9828a62692e6row2_col7\" class=\"data row2 col7\" >40.7412</td>\n",
       "                        <td id=\"T_a11d6628_7adf_11ea_ba01_9828a62692e6row2_col8\" class=\"data row2 col8\" >N</td>\n",
       "                        <td id=\"T_a11d6628_7adf_11ea_ba01_9828a62692e6row2_col9\" class=\"data row2 col9\" >673</td>\n",
       "            </tr>\n",
       "            <tr>\n",
       "                        <th id=\"T_a11d6628_7adf_11ea_ba01_9828a62692e6level0_row3\" class=\"row_heading level0 row3\" >729320</th>\n",
       "                        <td id=\"T_a11d6628_7adf_11ea_ba01_9828a62692e6row3_col0\" class=\"data row3 col0\" >1</td>\n",
       "                        <td id=\"T_a11d6628_7adf_11ea_ba01_9828a62692e6row3_col1\" class=\"data row3 col1\" >2016-06-19 09:50:47</td>\n",
       "                        <td id=\"T_a11d6628_7adf_11ea_ba01_9828a62692e6row3_col2\" class=\"data row3 col2\" >2016-06-19 09:58:14</td>\n",
       "                        <td id=\"T_a11d6628_7adf_11ea_ba01_9828a62692e6row3_col3\" class=\"data row3 col3\" >1</td>\n",
       "                        <td id=\"T_a11d6628_7adf_11ea_ba01_9828a62692e6row3_col4\" class=\"data row3 col4\" >-74.0067</td>\n",
       "                        <td id=\"T_a11d6628_7adf_11ea_ba01_9828a62692e6row3_col5\" class=\"data row3 col5\" >40.7082</td>\n",
       "                        <td id=\"T_a11d6628_7adf_11ea_ba01_9828a62692e6row3_col6\" class=\"data row3 col6\" >-74.0135</td>\n",
       "                        <td id=\"T_a11d6628_7adf_11ea_ba01_9828a62692e6row3_col7\" class=\"data row3 col7\" >40.7138</td>\n",
       "                        <td id=\"T_a11d6628_7adf_11ea_ba01_9828a62692e6row3_col8\" class=\"data row3 col8\" >N</td>\n",
       "                        <td id=\"T_a11d6628_7adf_11ea_ba01_9828a62692e6row3_col9\" class=\"data row3 col9\" >447</td>\n",
       "            </tr>\n",
       "            <tr>\n",
       "                        <th id=\"T_a11d6628_7adf_11ea_ba01_9828a62692e6level0_row4\" class=\"row_heading level0 row4\" >729321</th>\n",
       "                        <td id=\"T_a11d6628_7adf_11ea_ba01_9828a62692e6row4_col0\" class=\"data row4 col0\" >2</td>\n",
       "                        <td id=\"T_a11d6628_7adf_11ea_ba01_9828a62692e6row4_col1\" class=\"data row4 col1\" >2016-01-01 17:24:16</td>\n",
       "                        <td id=\"T_a11d6628_7adf_11ea_ba01_9828a62692e6row4_col2\" class=\"data row4 col2\" >2016-01-01 17:44:40</td>\n",
       "                        <td id=\"T_a11d6628_7adf_11ea_ba01_9828a62692e6row4_col3\" class=\"data row4 col3\" >4</td>\n",
       "                        <td id=\"T_a11d6628_7adf_11ea_ba01_9828a62692e6row4_col4\" class=\"data row4 col4\" >-74.0033</td>\n",
       "                        <td id=\"T_a11d6628_7adf_11ea_ba01_9828a62692e6row4_col5\" class=\"data row4 col5\" >40.7438</td>\n",
       "                        <td id=\"T_a11d6628_7adf_11ea_ba01_9828a62692e6row4_col6\" class=\"data row4 col6\" >-73.9458</td>\n",
       "                        <td id=\"T_a11d6628_7adf_11ea_ba01_9828a62692e6row4_col7\" class=\"data row4 col7\" >40.7128</td>\n",
       "                        <td id=\"T_a11d6628_7adf_11ea_ba01_9828a62692e6row4_col8\" class=\"data row4 col8\" >N</td>\n",
       "                        <td id=\"T_a11d6628_7adf_11ea_ba01_9828a62692e6row4_col9\" class=\"data row4 col9\" >1224</td>\n",
       "            </tr>\n",
       "    </tbody></table>"
      ],
      "text/plain": [
       "<pandas.io.formats.style.Styler at 0x1c1c3083ac8>"
      ]
     },
     "execution_count": 13,
     "metadata": {},
     "output_type": "execute_result"
    }
   ],
   "source": [
    "data.tail(5).style.background_gradient(cmap = 'Set2')"
   ]
  },
  {
   "cell_type": "code",
   "execution_count": null,
   "metadata": {},
   "outputs": [],
   "source": [
    "# Listing all column names"
   ]
  },
  {
   "cell_type": "code",
   "execution_count": 6,
   "metadata": {},
   "outputs": [
    {
     "data": {
      "text/plain": [
       "Index(['id', 'vendor_id', 'pickup_datetime', 'dropoff_datetime',\n",
       "       'passenger_count', 'pickup_longitude', 'pickup_latitude',\n",
       "       'dropoff_longitude', 'dropoff_latitude', 'store_and_fwd_flag',\n",
       "       'trip_duration'],\n",
       "      dtype='object')"
      ]
     },
     "execution_count": 6,
     "metadata": {},
     "output_type": "execute_result"
    }
   ],
   "source": [
    "data.columns"
   ]
  },
  {
   "cell_type": "code",
   "execution_count": null,
   "metadata": {},
   "outputs": [],
   "source": [
    "# Size of dataset"
   ]
  },
  {
   "cell_type": "code",
   "execution_count": 9,
   "metadata": {},
   "outputs": [
    {
     "data": {
      "text/plain": [
       "(729322, 11)"
      ]
     },
     "execution_count": 9,
     "metadata": {},
     "output_type": "execute_result"
    }
   ],
   "source": [
    "data.shape"
   ]
  },
  {
   "cell_type": "code",
   "execution_count": null,
   "metadata": {},
   "outputs": [],
   "source": [
    "# Data Type of col"
   ]
  },
  {
   "cell_type": "code",
   "execution_count": 3,
   "metadata": {},
   "outputs": [
    {
     "data": {
      "text/plain": [
       "id                     object\n",
       "vendor_id               int64\n",
       "pickup_datetime        object\n",
       "dropoff_datetime       object\n",
       "passenger_count         int64\n",
       "pickup_longitude      float64\n",
       "pickup_latitude       float64\n",
       "dropoff_longitude     float64\n",
       "dropoff_latitude      float64\n",
       "store_and_fwd_flag     object\n",
       "trip_duration           int64\n",
       "dtype: object"
      ]
     },
     "execution_count": 3,
     "metadata": {},
     "output_type": "execute_result"
    }
   ],
   "source": [
    "data.dtypes"
   ]
  },
  {
   "cell_type": "code",
   "execution_count": null,
   "metadata": {},
   "outputs": [],
   "source": [
    "# Mising values"
   ]
  },
  {
   "cell_type": "code",
   "execution_count": 4,
   "metadata": {},
   "outputs": [
    {
     "data": {
      "text/plain": [
       "id                    0\n",
       "vendor_id             0\n",
       "pickup_datetime       0\n",
       "dropoff_datetime      0\n",
       "passenger_count       0\n",
       "pickup_longitude      0\n",
       "pickup_latitude       0\n",
       "dropoff_longitude     0\n",
       "dropoff_latitude      0\n",
       "store_and_fwd_flag    0\n",
       "trip_duration         0\n",
       "dtype: int64"
      ]
     },
     "execution_count": 4,
     "metadata": {},
     "output_type": "execute_result"
    }
   ],
   "source": [
    "data.isna().sum()"
   ]
  },
  {
   "cell_type": "code",
   "execution_count": null,
   "metadata": {},
   "outputs": [],
   "source": [
    "# EDA : Univariate analysis"
   ]
  },
  {
   "cell_type": "code",
   "execution_count": 7,
   "metadata": {},
   "outputs": [
    {
     "data": {
      "text/plain": [
       "729322"
      ]
     },
     "execution_count": 7,
     "metadata": {},
     "output_type": "execute_result"
    }
   ],
   "source": [
    "len(data.id.unique())"
   ]
  },
  {
   "cell_type": "code",
   "execution_count": null,
   "metadata": {},
   "outputs": [],
   "source": [
    "'''\n",
    "This can be treated as index and can be dropped from dataset\n",
    "'''"
   ]
  },
  {
   "cell_type": "code",
   "execution_count": 3,
   "metadata": {},
   "outputs": [],
   "source": [
    "data.drop(\"id\",axis=1,inplace=True)"
   ]
  },
  {
   "cell_type": "code",
   "execution_count": null,
   "metadata": {},
   "outputs": [],
   "source": [
    "# vendor_id"
   ]
  },
  {
   "cell_type": "code",
   "execution_count": 10,
   "metadata": {},
   "outputs": [
    {
     "data": {
      "text/plain": [
       "(2, array([2, 1], dtype=int64))"
      ]
     },
     "execution_count": 10,
     "metadata": {},
     "output_type": "execute_result"
    }
   ],
   "source": [
    "len(data.vendor_id.unique()),data.vendor_id.unique()"
   ]
  },
  {
   "cell_type": "code",
   "execution_count": 11,
   "metadata": {},
   "outputs": [
    {
     "data": {
      "text/plain": [
       "<matplotlib.axes._subplots.AxesSubplot at 0x1c1c1f970f0>"
      ]
     },
     "execution_count": 11,
     "metadata": {},
     "output_type": "execute_result"
    },
    {
     "data": {
      "image/png": "[encoded data removed]",
      "text/plain": [
       "<Figure size 432x288 with 1 Axes>"
      ]
     },
     "metadata": {
      "needs_background": "light"
     },
     "output_type": "display_data"
    }
   ],
   "source": [
    "sns.countplot(data[\"vendor_id\"])"
   ]
  },
  {
   "cell_type": "code",
   "execution_count": null,
   "metadata": {},
   "outputs": [],
   "source": [
    "'''\n",
    "Vendor 2 is more popular among passengers as compared to vendor 1\n",
    "'''"
   ]
  },
  {
   "cell_type": "code",
   "execution_count": null,
   "metadata": {},
   "outputs": [],
   "source": [
    "# pickupdatetime"
   ]
  },
  {
   "cell_type": "code",
   "execution_count": 12,
   "metadata": {},
   "outputs": [
    {
     "data": {
      "text/plain": [
       "0    2016-02-29 16:40:21\n",
       "1    2016-03-11 23:35:37\n",
       "2    2016-02-21 17:59:33\n",
       "Name: pickup_datetime, dtype: object"
      ]
     },
     "execution_count": 12,
     "metadata": {},
     "output_type": "execute_result"
    }
   ],
   "source": [
    "data.pickup_datetime.head(3)"
   ]
  },
  {
   "cell_type": "code",
   "execution_count": null,
   "metadata": {},
   "outputs": [],
   "source": [
    "'''\n",
    "we can split this column to derive some new columns\n",
    "'''"
   ]
  },
  {
   "cell_type": "code",
   "execution_count": null,
   "metadata": {},
   "outputs": [],
   "source": [
    "# Changing the datatype of this column"
   ]
  },
  {
   "cell_type": "code",
   "execution_count": 4,
   "metadata": {},
   "outputs": [],
   "source": [
    "data.pickup_datetime=pd.to_datetime(data[\"pickup_datetime\"])"
   ]
  },
  {
   "cell_type": "code",
   "execution_count": null,
   "metadata": {},
   "outputs": [],
   "source": [
    "# Extracting useful info"
   ]
  },
  {
   "cell_type": "code",
   "execution_count": 5,
   "metadata": {},
   "outputs": [],
   "source": [
    "data['year'] = data['pickup_datetime'].dt.year\n",
    "data['month'] = data['pickup_datetime'].dt.month\n",
    "data['day'] = data['pickup_datetime'].dt.day"
   ]
  },
  {
   "cell_type": "code",
   "execution_count": 6,
   "metadata": {},
   "outputs": [],
   "source": [
    "data[\"hour\"]=data['pickup_datetime'].dt.hour\n",
    "data[\"minute\"]=data['pickup_datetime'].dt.minute\n",
    "data[\"second\"]=data['pickup_datetime'].dt.second"
   ]
  },
  {
   "cell_type": "code",
   "execution_count": 7,
   "metadata": {},
   "outputs": [],
   "source": [
    "data[\"Day\"]=data['pickup_datetime'].dt.day_name()"
   ]
  },
  {
   "cell_type": "code",
   "execution_count": null,
   "metadata": {},
   "outputs": [],
   "source": [
    "# dropoff_datetime"
   ]
  },
  {
   "cell_type": "code",
   "execution_count": 45,
   "metadata": {},
   "outputs": [
    {
     "data": {
      "text/plain": [
       "0    2016-02-29 16:47:01\n",
       "1    2016-03-11 23:53:57\n",
       "2    2016-02-21 18:26:48\n",
       "Name: dropoff_datetime, dtype: object"
      ]
     },
     "execution_count": 45,
     "metadata": {},
     "output_type": "execute_result"
    }
   ],
   "source": [
    "data.dropoff_datetime.head(3)"
   ]
  },
  {
   "cell_type": "code",
   "execution_count": null,
   "metadata": {},
   "outputs": [],
   "source": [
    "# Lets extract valuable info"
   ]
  },
  {
   "cell_type": "code",
   "execution_count": 8,
   "metadata": {},
   "outputs": [],
   "source": [
    "data.dropoff_datetime=pd.to_datetime(data[\"dropoff_datetime\"])"
   ]
  },
  {
   "cell_type": "code",
   "execution_count": 9,
   "metadata": {},
   "outputs": [],
   "source": [
    "data['drop_year'] = data['dropoff_datetime'].dt.year\n",
    "data['drop_month'] = data['dropoff_datetime'].dt.month\n",
    "data['drop_day'] = data['dropoff_datetime'].dt.day\n",
    "data[\"drop_hour\"]=data['dropoff_datetime'].dt.hour\n",
    "data[\"drop_minute\"]=data['dropoff_datetime'].dt.minute\n",
    "data[\"drop_second\"]=data['dropoff_datetime'].dt.second\n",
    "data[\"drop_Day\"]=data['dropoff_datetime'].dt.day_name()"
   ]
  },
  {
   "cell_type": "code",
   "execution_count": null,
   "metadata": {},
   "outputs": [],
   "source": [
    "# Lets see the total journey time"
   ]
  },
  {
   "cell_type": "code",
   "execution_count": 10,
   "metadata": {},
   "outputs": [],
   "source": [
    "data[\"journey_time\"]=data['dropoff_datetime']-data['pickup_datetime']"
   ]
  },
  {
   "cell_type": "code",
   "execution_count": null,
   "metadata": {},
   "outputs": [],
   "source": [
    "# Lets convert this journey time in seconds as we have target variable in seconds"
   ]
  },
  {
   "cell_type": "code",
   "execution_count": 21,
   "metadata": {},
   "outputs": [],
   "source": [
    "data['journey_time']=data['journey_time'].dt.total_seconds().astype(int)"
   ]
  },
  {
   "cell_type": "code",
   "execution_count": null,
   "metadata": {},
   "outputs": [],
   "source": [
    "# As we have taken all required info from these two variable we are dropping them"
   ]
  },
  {
   "cell_type": "code",
   "execution_count": 11,
   "metadata": {},
   "outputs": [],
   "source": [
    "data.drop([\"dropoff_datetime\",\"pickup_datetime\"],axis=1,inplace=True)"
   ]
  },
  {
   "cell_type": "code",
   "execution_count": null,
   "metadata": {},
   "outputs": [],
   "source": [
    "# Passenger count"
   ]
  },
  {
   "cell_type": "code",
   "execution_count": 24,
   "metadata": {},
   "outputs": [
    {
     "data": {
      "text/plain": [
       "0        33\n",
       "1    517415\n",
       "2    105097\n",
       "3     29692\n",
       "4     14050\n",
       "5     38926\n",
       "6     24107\n",
       "7         1\n",
       "9         1\n",
       "Name: passenger_count, dtype: int64"
      ]
     },
     "execution_count": 24,
     "metadata": {},
     "output_type": "execute_result"
    }
   ],
   "source": [
    "data.passenger_count.value_counts().sort_index()"
   ]
  },
  {
   "cell_type": "code",
   "execution_count": 37,
   "metadata": {},
   "outputs": [
    {
     "data": {
      "image/png": "[encoded data removed]",
      "text/plain": [
       "<Figure size 576x360 with 1 Axes>"
      ]
     },
     "metadata": {
      "needs_background": "light"
     },
     "output_type": "display_data"
    }
   ],
   "source": [
    "figure=plt.figure(figsize=(8,5))\n",
    "fig=sns.countplot(data[\"passenger_count\"])\n",
    "for count in fig.patches:\n",
    "    fig.annotate((count.get_height()),(count.get_x(),count.get_height()))"
   ]
  },
  {
   "cell_type": "code",
   "execution_count": null,
   "metadata": {},
   "outputs": [],
   "source": [
    "'''\n",
    "People prefer travelling alone, 0 passenger might be a wrong value. only few ppl have travelled in groups more than 7.\n",
    "'''"
   ]
  },
  {
   "cell_type": "code",
   "execution_count": null,
   "metadata": {},
   "outputs": [],
   "source": [
    "# latitude and logitude"
   ]
  },
  {
   "cell_type": "code",
   "execution_count": 26,
   "metadata": {},
   "outputs": [
    {
     "data": {
      "text/plain": [
       "<matplotlib.axes._subplots.AxesSubplot at 0x17518feee48>"
      ]
     },
     "execution_count": 26,
     "metadata": {},
     "output_type": "execute_result"
    },
    {
     "data": {
      "image/png": "[encoded data removed]",
      "text/plain": [
       "<Figure size 432x288 with 1 Axes>"
      ]
     },
     "metadata": {
      "needs_background": "light"
     },
     "output_type": "display_data"
    }
   ],
   "source": [
    "sns.distplot(data[\"pickup_longitude\"],color=\"g\")"
   ]
  },
  {
   "cell_type": "code",
   "execution_count": null,
   "metadata": {},
   "outputs": [],
   "source": [
    "'''\n",
    "We can refer to map and say that most of pickup longitude is between -65 and -68\n",
    "'''"
   ]
  },
  {
   "cell_type": "code",
   "execution_count": 27,
   "metadata": {},
   "outputs": [
    {
     "data": {
      "text/plain": [
       "<matplotlib.axes._subplots.AxesSubplot at 0x175192beda0>"
      ]
     },
     "execution_count": 27,
     "metadata": {},
     "output_type": "execute_result"
    },
    {
     "data": {
      "image/png": "[encoded data removed]",
      "text/plain": [
       "<Figure size 432x288 with 1 Axes>"
      ]
     },
     "metadata": {
      "needs_background": "light"
     },
     "output_type": "display_data"
    }
   ],
   "source": [
    "sns.distplot(data[\"pickup_latitude\"],color=\"g\")"
   ]
  },
  {
   "cell_type": "code",
   "execution_count": null,
   "metadata": {},
   "outputs": [],
   "source": [
    "'''\n",
    "most pickup latitude is between 40-41\n",
    "'''"
   ]
  },
  {
   "cell_type": "code",
   "execution_count": 28,
   "metadata": {},
   "outputs": [
    {
     "data": {
      "text/plain": [
       "<matplotlib.axes._subplots.AxesSubplot at 0x175192bea20>"
      ]
     },
     "execution_count": 28,
     "metadata": {},
     "output_type": "execute_result"
    },
    {
     "data": {
      "image/png": "[encoded data removed]",
      "text/plain": [
       "<Figure size 432x288 with 1 Axes>"
      ]
     },
     "metadata": {
      "needs_background": "light"
     },
     "output_type": "display_data"
    }
   ],
   "source": [
    "sns.distplot(data[\"dropoff_longitude\"],color=\"c\")"
   ]
  },
  {
   "cell_type": "code",
   "execution_count": null,
   "metadata": {},
   "outputs": [],
   "source": [
    "'''\n",
    "drop location of users is concentrated between -71 to -85\n",
    "'''"
   ]
  },
  {
   "cell_type": "code",
   "execution_count": 29,
   "metadata": {},
   "outputs": [
    {
     "data": {
      "text/plain": [
       "<matplotlib.axes._subplots.AxesSubplot at 0x175192d5ba8>"
      ]
     },
     "execution_count": 29,
     "metadata": {},
     "output_type": "execute_result"
    },
    {
     "data": {
      "image/png": "[encoded data removed]",
      "text/plain": [
       "<Figure size 432x288 with 1 Axes>"
      ]
     },
     "metadata": {
      "needs_background": "light"
     },
     "output_type": "display_data"
    }
   ],
   "source": [
    "sns.distplot(data[\"dropoff_latitude\"],color=\"c\")"
   ]
  },
  {
   "cell_type": "code",
   "execution_count": null,
   "metadata": {},
   "outputs": [],
   "source": [
    "'''\n",
    "droplatitude of user are mostly at 41 latitude\n",
    "'''"
   ]
  },
  {
   "cell_type": "code",
   "execution_count": null,
   "metadata": {},
   "outputs": [],
   "source": [
    "'''\n",
    "from the above graphs we can also infer that some location pickups as well as drop location varies too much resulting in skewness\n",
    "of our graphs.this can be treated as outliers and we can remove them \n",
    "'''"
   ]
  },
  {
   "cell_type": "code",
   "execution_count": null,
   "metadata": {},
   "outputs": [],
   "source": [
    "# store_and_fwd_flag"
   ]
  },
  {
   "cell_type": "code",
   "execution_count": 34,
   "metadata": {},
   "outputs": [
    {
     "data": {
      "image/png": "[encoded data removed]",
      "text/plain": [
       "<Figure size 432x288 with 1 Axes>"
      ]
     },
     "metadata": {
      "needs_background": "light"
     },
     "output_type": "display_data"
    }
   ],
   "source": [
    "fig=sns.countplot(data.store_and_fwd_flag)\n",
    "for count in fig.patches:\n",
    "    fig.annotate((count.get_height()),(count.get_x(),count.get_height()))"
   ]
  },
  {
   "cell_type": "code",
   "execution_count": null,
   "metadata": {},
   "outputs": [],
   "source": [
    "'''\n",
    "As we can see the no of ppl saving the trip in memory is very less as compared to ppl taking ride immediately\n",
    "'''"
   ]
  },
  {
   "cell_type": "code",
   "execution_count": null,
   "metadata": {},
   "outputs": [],
   "source": [
    "# Lets analyze our date time derived columns"
   ]
  },
  {
   "cell_type": "code",
   "execution_count": 38,
   "metadata": {},
   "outputs": [
    {
     "data": {
      "text/html": [
       "<div>\n",
       "<style scoped>\n",
       "    .dataframe tbody tr th:only-of-type {\n",
       "        vertical-align: middle;\n",
       "    }\n",
       "\n",
       "    .dataframe tbody tr th {\n",
       "        vertical-align: top;\n",
       "    }\n",
       "\n",
       "    .dataframe thead th {\n",
       "        text-align: right;\n",
       "    }\n",
       "</style>\n",
       "<table border=\"1\" class=\"dataframe\">\n",
       "  <thead>\n",
       "    <tr style=\"text-align: right;\">\n",
       "      <th></th>\n",
       "      <th>vendor_id</th>\n",
       "      <th>passenger_count</th>\n",
       "      <th>pickup_longitude</th>\n",
       "      <th>pickup_latitude</th>\n",
       "      <th>dropoff_longitude</th>\n",
       "      <th>dropoff_latitude</th>\n",
       "      <th>store_and_fwd_flag</th>\n",
       "      <th>trip_duration</th>\n",
       "      <th>year</th>\n",
       "      <th>month</th>\n",
       "      <th>...</th>\n",
       "      <th>second</th>\n",
       "      <th>Day</th>\n",
       "      <th>drop_year</th>\n",
       "      <th>drop_month</th>\n",
       "      <th>drop_day</th>\n",
       "      <th>drop_hour</th>\n",
       "      <th>drop_minute</th>\n",
       "      <th>drop_second</th>\n",
       "      <th>drop_Day</th>\n",
       "      <th>journey_time</th>\n",
       "    </tr>\n",
       "  </thead>\n",
       "  <tbody>\n",
       "    <tr>\n",
       "      <th>0</th>\n",
       "      <td>2</td>\n",
       "      <td>1</td>\n",
       "      <td>-73.953918</td>\n",
       "      <td>40.778873</td>\n",
       "      <td>-73.963875</td>\n",
       "      <td>40.771164</td>\n",
       "      <td>N</td>\n",
       "      <td>400</td>\n",
       "      <td>2016</td>\n",
       "      <td>2</td>\n",
       "      <td>...</td>\n",
       "      <td>21</td>\n",
       "      <td>Monday</td>\n",
       "      <td>2016</td>\n",
       "      <td>2</td>\n",
       "      <td>29</td>\n",
       "      <td>16</td>\n",
       "      <td>47</td>\n",
       "      <td>1</td>\n",
       "      <td>Monday</td>\n",
       "      <td>400</td>\n",
       "    </tr>\n",
       "  </tbody>\n",
       "</table>\n",
       "<p>1 rows × 23 columns</p>\n",
       "</div>"
      ],
      "text/plain": [
       "   vendor_id  passenger_count  pickup_longitude  pickup_latitude  \\\n",
       "0          2                1        -73.953918        40.778873   \n",
       "\n",
       "   dropoff_longitude  dropoff_latitude store_and_fwd_flag  trip_duration  \\\n",
       "0         -73.963875         40.771164                  N            400   \n",
       "\n",
       "   year  month  ...  second     Day  drop_year  drop_month drop_day  \\\n",
       "0  2016      2  ...      21  Monday       2016           2       29   \n",
       "\n",
       "   drop_hour  drop_minute  drop_second  drop_Day  journey_time  \n",
       "0         16           47            1    Monday           400  \n",
       "\n",
       "[1 rows x 23 columns]"
      ]
     },
     "execution_count": 38,
     "metadata": {},
     "output_type": "execute_result"
    }
   ],
   "source": [
    "data.head(1)"
   ]
  },
  {
   "cell_type": "code",
   "execution_count": 41,
   "metadata": {},
   "outputs": [
    {
     "data": {
      "text/plain": [
       "<matplotlib.axes._subplots.AxesSubplot at 0x17519897f28>"
      ]
     },
     "execution_count": 41,
     "metadata": {},
     "output_type": "execute_result"
    },
    {
     "data": {
      "image/png": "[encoded data removed]",
      "text/plain": [
       "<Figure size 432x288 with 1 Axes>"
      ]
     },
     "metadata": {
      "needs_background": "light"
     },
     "output_type": "display_data"
    }
   ],
   "source": [
    "sns.countplot(data[\"month\"])"
   ]
  },
  {
   "cell_type": "code",
   "execution_count": null,
   "metadata": {},
   "outputs": [],
   "source": [
    "# data consist of year 2016 starting from month january."
   ]
  },
  {
   "cell_type": "code",
   "execution_count": 44,
   "metadata": {},
   "outputs": [
    {
     "data": {
      "text/plain": [
       "<matplotlib.axes._subplots.AxesSubplot at 0x1751973a0f0>"
      ]
     },
     "execution_count": 44,
     "metadata": {},
     "output_type": "execute_result"
    },
    {
     "data": {
      "image/png": "[encoded data removed]",
      "text/plain": [
       "<Figure size 1080x360 with 1 Axes>"
      ]
     },
     "metadata": {
      "needs_background": "light"
     },
     "output_type": "display_data"
    }
   ],
   "source": [
    "plt.figure(figsize=(15,5))\n",
    "sns.countplot(data[\"day\"])"
   ]
  },
  {
   "cell_type": "code",
   "execution_count": null,
   "metadata": {},
   "outputs": [],
   "source": [
    "# User dont prefer to go out on last day of month"
   ]
  },
  {
   "cell_type": "code",
   "execution_count": 46,
   "metadata": {},
   "outputs": [
    {
     "data": {
      "text/plain": [
       "<matplotlib.axes._subplots.AxesSubplot at 0x17519a646a0>"
      ]
     },
     "execution_count": 46,
     "metadata": {},
     "output_type": "execute_result"
    },
    {
     "data": {
      "image/png": "[encoded data removed]",
      "text/plain": [
       "<Figure size 432x288 with 1 Axes>"
      ]
     },
     "metadata": {
      "needs_background": "light"
     },
     "output_type": "display_data"
    }
   ],
   "source": [
    "sns.countplot(data[\"Day\"])"
   ]
  },
  {
   "cell_type": "code",
   "execution_count": null,
   "metadata": {},
   "outputs": [],
   "source": []
  },
  {
   "cell_type": "code",
   "execution_count": null,
   "metadata": {},
   "outputs": [],
   "source": []
  },
  {
   "cell_type": "code",
   "execution_count": null,
   "metadata": {},
   "outputs": [],
   "source": []
  },
  {
   "cell_type": "code",
   "execution_count": null,
   "metadata": {},
   "outputs": [],
   "source": []
  },
  {
   "cell_type": "code",
   "execution_count": null,
   "metadata": {},
   "outputs": [],
   "source": []
  },
  {
   "cell_type": "code",
   "execution_count": null,
   "metadata": {},
   "outputs": [],
   "source": []
  },
  {
   "cell_type": "code",
   "execution_count": null,
   "metadata": {},
   "outputs": [],
   "source": []
  },
  {
   "cell_type": "code",
   "execution_count": null,
   "metadata": {},
   "outputs": [],
   "source": []
  },
  {
   "cell_type": "code",
   "execution_count": null,
   "metadata": {},
   "outputs": [],
   "source": []
  },
  {
   "cell_type": "code",
   "execution_count": null,
   "metadata": {},
   "outputs": [],
   "source": []
  },
  {
   "cell_type": "code",
   "execution_count": null,
   "metadata": {},
   "outputs": [],
   "source": []
  },
  {
   "cell_type": "code",
   "execution_count": null,
   "metadata": {},
   "outputs": [],
   "source": []
  },
  {
   "cell_type": "code",
   "execution_count": null,
   "metadata": {},
   "outputs": [],
   "source": []
  },
  {
   "cell_type": "code",
   "execution_count": null,
   "metadata": {},
   "outputs": [],
   "source": []
  },
  {
   "cell_type": "code",
   "execution_count": null,
   "metadata": {},
   "outputs": [],
   "source": []
  },
  {
   "cell_type": "code",
   "execution_count": null,
   "metadata": {},
   "outputs": [],
   "source": []
  },
  {
   "cell_type": "code",
   "execution_count": null,
   "metadata": {},
   "outputs": [],
   "source": []
  },
  {
   "cell_type": "code",
   "execution_count": null,
   "metadata": {},
   "outputs": [],
   "source": []
  },
  {
   "cell_type": "code",
   "execution_count": null,
   "metadata": {},
   "outputs": [],
   "source": []
  }
 ],
 "metadata": {
  "kernelspec": {
   "display_name": "Python 3",
   "language": "python",
   "name": "python3"
  },
  "language_info": {
   "codemirror_mode": {
    "name": "ipython",
    "version": 3
   },
   "file_extension": ".py",
   "mimetype": "text/x-python",
   "name": "python",
   "nbconvert_exporter": "python",
   "pygments_lexer": "ipython3",
   "version": "3.6.5"
  }
 },
 "nbformat": 4,
 "nbformat_minor": 2
}
